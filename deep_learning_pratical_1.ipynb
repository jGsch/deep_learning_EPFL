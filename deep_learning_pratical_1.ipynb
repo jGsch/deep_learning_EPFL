{
 "cells": [
  {
   "cell_type": "markdown",
   "metadata": {},
   "source": [
    "## DEEP LEARNING : PRATICAL SESSION °1"
   ]
  },
  {
   "cell_type": "code",
   "execution_count": 103,
   "metadata": {},
   "outputs": [],
   "source": [
    "from torch import Tensor"
   ]
  },
  {
   "cell_type": "markdown",
   "metadata": {},
   "source": [
    "### 1.  Multiple views of astorage"
   ]
  },
  {
   "cell_type": "code",
   "execution_count": 53,
   "metadata": {},
   "outputs": [
    {
     "name": "stdout",
     "output_type": "stream",
     "text": [
      "\n",
      "\n",
      "Columns 0 to 12 \n",
      "    1     2     1     1     1     1     1     2     1     1     1     1     2\n",
      "    2     2     2     2     2     2     2     2     2     2     2     2     2\n",
      "    1     2     1     1     1     1     1     2     1     1     1     1     2\n",
      "    1     2     1     3     3     1     1     2     1     3     3     1     2\n",
      "    1     2     1     3     3     1     1     2     1     3     3     1     2\n",
      "    1     2     1     1     1     1     1     2     1     1     1     1     2\n",
      "    1     2     1     1     1     1     1     2     1     1     1     1     2\n",
      "    2     2     2     2     2     2     2     2     2     2     2     2     2\n",
      "    1     2     1     1     1     1     1     2     1     1     1     1     2\n",
      "    1     2     1     3     3     1     1     2     1     3     3     1     2\n",
      "    1     2     1     3     3     1     1     2     1     3     3     1     2\n",
      "    1     2     1     1     1     1     1     2     1     1     1     1     2\n",
      "    2     2     2     2     2     2     2     2     2     2     2     2     2\n",
      "    1     2     1     1     1     1     1     2     1     1     1     1     2\n",
      "\n",
      "Columns 13 to 13 \n",
      "    1\n",
      "    2\n",
      "    1\n",
      "    1\n",
      "    1\n",
      "    1\n",
      "    1\n",
      "    2\n",
      "    1\n",
      "    1\n",
      "    1\n",
      "    1\n",
      "    2\n",
      "    1\n",
      "[torch.FloatTensor of size 14x14]\n",
      "\n"
     ]
    }
   ],
   "source": [
    "size = 14\n",
    "x = Tensor(size,size).fill_(1)\n",
    "\n",
    "# 2 - Horizonthal\n",
    "x.narrow(0,1,1).fill_(2)\n",
    "x.narrow(0,size/2,1).fill_(2)\n",
    "x.narrow(0,size-2,1).fill_(2)\n",
    "\n",
    "# 2 - Vertical\n",
    "x.narrow(1,1,1).fill_(2)\n",
    "x.narrow(1,size/2,1).fill_(2)\n",
    "x.narrow(1,size-2,1).fill_(2)\n",
    "\n",
    "# 3 \n",
    "x[3:5,3:5] = 3\n",
    "x[3:5,size/2+2:size/2+4] = 3\n",
    "x[size/2+2:size/2+4,3:5] = 3\n",
    "x[size/2+2:size/2+4,size/2+2:size/2+4] = 3\n",
    "\n",
    "x"
   ]
  },
  {
   "cell_type": "markdown",
   "metadata": {},
   "source": [
    "### 2.  Eigendecomposition"
   ]
  },
  {
   "cell_type": "code",
   "execution_count": 101,
   "metadata": {},
   "outputs": [
    {
     "data": {
      "text/plain": [
       "(\n",
       "   1.0000   0.0000\n",
       "   2.0000   0.0000\n",
       "  20.0000   0.0000\n",
       "   3.0000   0.0000\n",
       "  19.0000   0.0000\n",
       "  18.0000   0.0000\n",
       "   4.0000   0.0000\n",
       "  17.0000   0.0000\n",
       "   5.0000   0.0000\n",
       "  16.0000   0.0000\n",
       "   6.0000   0.0000\n",
       "   7.0000   0.0000\n",
       "   8.0000   0.0000\n",
       "   9.0000   0.0000\n",
       "  15.0000   0.0000\n",
       "  14.0000   0.0000\n",
       "  13.0000   0.0000\n",
       "  12.0000   0.0000\n",
       "  10.0000   0.0000\n",
       "  11.0000   0.0000\n",
       " [torch.FloatTensor of size 20x2], [torch.FloatTensor with no dimension])"
      ]
     },
     "execution_count": 101,
     "metadata": {},
     "output_type": "execute_result"
    }
   ],
   "source": [
    "size = 20\n",
    "\n",
    "M = torch.randn(size, size)\n",
    "invM = M.inverse()\n",
    "diagTensor = torch.arange(1,size + 1).diag()\n",
    "\n",
    "inter = torch.mm(diagTensor, M)\n",
    "final = torch.mm(invM, inter)\n",
    "\n",
    "final.eig()"
   ]
  },
  {
   "cell_type": "markdown",
   "metadata": {},
   "source": [
    "### 3. Flops per second"
   ]
  },
  {
   "cell_type": "code",
   "execution_count": 104,
   "metadata": {},
   "outputs": [
    {
     "ename": "AttributeError",
     "evalue": "'module' object has no attribute 'perf_counter'",
     "output_type": "error",
     "traceback": [
      "\u001b[0;31m---------------------------------------------------------------------------\u001b[0m",
      "\u001b[0;31mAttributeError\u001b[0m                            Traceback (most recent call last)",
      "\u001b[0;32m<ipython-input-104-c8121aef0343>\u001b[0m in \u001b[0;36m<module>\u001b[0;34m()\u001b[0m\n\u001b[1;32m      1\u001b[0m \u001b[0;32mimport\u001b[0m \u001b[0mtime\u001b[0m\u001b[0;34m\u001b[0m\u001b[0m\n\u001b[1;32m      2\u001b[0m \u001b[0;34m\u001b[0m\u001b[0m\n\u001b[0;32m----> 3\u001b[0;31m \u001b[0mt1_start\u001b[0m \u001b[0;34m=\u001b[0m \u001b[0mtime\u001b[0m\u001b[0;34m.\u001b[0m\u001b[0mperf_counter\u001b[0m\u001b[0;34m(\u001b[0m\u001b[0;34m)\u001b[0m\u001b[0;34m\u001b[0m\u001b[0m\n\u001b[0m\u001b[1;32m      4\u001b[0m \u001b[0;34m\u001b[0m\u001b[0m\n\u001b[1;32m      5\u001b[0m \u001b[0msize\u001b[0m \u001b[0;34m=\u001b[0m \u001b[0;36m5000\u001b[0m\u001b[0;34m\u001b[0m\u001b[0m\n",
      "\u001b[0;31mAttributeError\u001b[0m: 'module' object has no attribute 'perf_counter'"
     ]
    }
   ],
   "source": [
    "import time\n",
    "\n",
    "t1_start = time.perf_counter()\n",
    "\n",
    "size = 5000\n",
    "firstMat = torch.randn(size, size)\n",
    "seconMat = torch.randn(size, size)\n",
    "\n",
    "\n",
    "\n",
    "t1_stop = time.perf_counter()\n",
    "    \n",
    "print(\"Elapsed time:\", ((t1_stop-t1_start)/60), \"[min]\" )"
   ]
  },
  {
   "cell_type": "code",
   "execution_count": null,
   "metadata": {},
   "outputs": [],
   "source": []
  }
 ],
 "metadata": {
  "kernelspec": {
   "display_name": "Python 2",
   "language": "python",
   "name": "python2"
  },
  "language_info": {
   "codemirror_mode": {
    "name": "ipython",
    "version": 2
   },
   "file_extension": ".py",
   "mimetype": "text/x-python",
   "name": "python",
   "nbconvert_exporter": "python",
   "pygments_lexer": "ipython2",
   "version": "2.7.14"
  }
 },
 "nbformat": 4,
 "nbformat_minor": 2
}
