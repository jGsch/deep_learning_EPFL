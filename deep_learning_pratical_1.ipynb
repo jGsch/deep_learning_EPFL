{
 "cells": [
  {
   "cell_type": "markdown",
   "metadata": {},
   "source": [
    "## DEEP LEARNING : PRATICAL SESSION °1"
   ]
  },
  {
   "cell_type": "code",
   "execution_count": 1,
   "metadata": {},
   "outputs": [],
   "source": [
    "from torch import Tensor\n",
    "import torch\n",
    "import time\n"
   ]
  },
  {
   "cell_type": "markdown",
   "metadata": {},
   "source": [
    "### 1.  Multiple views of astorage"
   ]
  },
  {
   "cell_type": "code",
   "execution_count": 2,
   "metadata": {},
   "outputs": [
    {
     "data": {
      "text/plain": [
       "\n",
       "    1     2     1     1     1     1     2     1     1     1     1     2     1\n",
       "    2     2     2     2     2     2     2     2     2     2     2     2     2\n",
       "    1     2     1     1     1     1     2     1     1     1     1     2     1\n",
       "    1     2     1     3     3     1     2     1     3     3     1     2     1\n",
       "    1     2     1     3     3     1     2     1     3     3     1     2     1\n",
       "    1     2     1     1     1     1     2     1     1     1     1     2     1\n",
       "    2     2     2     2     2     2     2     2     2     2     2     2     2\n",
       "    1     2     1     1     1     1     2     1     1     1     1     2     1\n",
       "    1     2     1     3     3     1     2     1     3     3     1     2     1\n",
       "    1     2     1     3     3     1     2     1     3     3     1     2     1\n",
       "    1     2     1     1     1     1     2     1     1     1     1     2     1\n",
       "    2     2     2     2     2     2     2     2     2     2     2     2     2\n",
       "    1     2     1     1     1     1     2     1     1     1     1     2     1\n",
       "[torch.FloatTensor of size 13x13]"
      ]
     },
     "execution_count": 2,
     "metadata": {},
     "output_type": "execute_result"
    }
   ],
   "source": [
    "size = 13 \n",
    "half_size = int(size/2)\n",
    "x = Tensor(size,size).fill_(1)\n",
    "\n",
    "# 2 - Horizonthal\n",
    "x[1,:] = x[half_size,:] = x[size-2,:] = 2\n",
    "\n",
    "# 2 - Vertical\n",
    "x[:,1] = x[:,half_size] = x[:,size-2] = 2\n",
    "\n",
    "# 3\n",
    "x[3:5,3:5] = x[3:5,half_size+2:half_size+4] = x[half_size+2:half_size+4,3:5] = x[half_size+2:half_size+4,half_size+2:half_size+4] = 3\n",
    " \n",
    "x"
   ]
  },
  {
   "cell_type": "markdown",
   "metadata": {},
   "source": [
    "### 2.  Eigendecomposition"
   ]
  },
  {
   "cell_type": "code",
   "execution_count": 3,
   "metadata": {},
   "outputs": [
    {
     "data": {
      "text/plain": [
       "(\n",
       "   1.0000   0.0000\n",
       "   2.0000   0.0000\n",
       "  20.0000   0.0000\n",
       "   3.0000   0.0000\n",
       "  19.0000   0.0000\n",
       "  18.0000   0.0000\n",
       "  17.0000   0.0000\n",
       "   4.0000   0.0000\n",
       "   5.0000   0.0000\n",
       "  16.0000   0.0000\n",
       "   6.0000   0.0000\n",
       "  15.0000   0.0000\n",
       "  14.0000   0.0000\n",
       "  13.0000   0.0000\n",
       "   7.0000   0.0000\n",
       "  12.0000   0.0000\n",
       "  11.0000   0.0000\n",
       "  10.0000   0.0000\n",
       "   9.0000   0.0000\n",
       "   8.0000   0.0000\n",
       " [torch.FloatTensor of size 20x2], [torch.FloatTensor with no dimension])"
      ]
     },
     "execution_count": 3,
     "metadata": {},
     "output_type": "execute_result"
    }
   ],
   "source": [
    "size = 20\n",
    "m = torch.Tensor(size, size).normal_()\n",
    "\n",
    "inv_m = m.inverse()\n",
    "diag_tensor = torch.arange(1,size + 1).diag()\n",
    "\n",
    "torch.mm(inv_m, torch.mm(diag_tensor, m)).eig()"
   ]
  },
  {
   "cell_type": "markdown",
   "metadata": {},
   "source": [
    "### 3. Flops per second"
   ]
  },
  {
   "cell_type": "code",
   "execution_count": 4,
   "metadata": {},
   "outputs": [
    {
     "name": "stdout",
     "output_type": "stream",
     "text": [
      "Elapsed time: 0.04416498043331861 min\n"
     ]
    }
   ],
   "source": [
    "size = 5000\n",
    "first_ten = secon_ten = torch.Tensor(size, size).normal_()\n",
    "\n",
    "t1_start = time.perf_counter()\n",
    "torch.mm(first_ten, secon_ten)\n",
    "t1_stop = time.perf_counter()\n",
    "\n",
    "print(\"Elapsed time: \" + str((t1_stop-t1_start)/60) + \" min\" )\n",
    "\n",
    "# Flop ?"
   ]
  },
  {
   "cell_type": "markdown",
   "metadata": {},
   "source": [
    "### 4. Playing with strides\n"
   ]
  },
  {
   "cell_type": "code",
   "execution_count": 5,
   "metadata": {},
   "outputs": [],
   "source": [
    "def mul_row(m):\n",
    "    for index, row in enumerate(m,1):\n",
    "        m[index-1,:] = index * m[index-1,:]\n",
    "        \n",
    "def mul_row_fast(m):\n",
    "    m_tmp = torch.arange(1,m.size()[0]+1).view(m.size()[0],1)\n",
    "    #m_tmp.expand_as(m) ---> PAS BESOIN, CA LE FAIT TOUT SEUL\n",
    "    torch.mul(m_tmp,m)"
   ]
  },
  {
   "cell_type": "code",
   "execution_count": 6,
   "metadata": {},
   "outputs": [
    {
     "name": "stdout",
     "output_type": "stream",
     "text": [
      "For torch.Size([4, 8])\n",
      " LOOP elapsed time: 1.2883183323234941e-05 min\n",
      " PYTORCH elapsed time: 1.2340001073122644e-06 min\n",
      " ratio LOOPtime / PYTORCHtime: 10.44018006716011\n",
      "\n",
      "For torch.Size([10000, 400])\n",
      " LOOP elapsed time: 0.001293214766701567 min\n",
      " PYTORCH elapsed time: 0.00018139236672141124 min\n",
      " ratio LOOPtime / PYTORCHtime: 7.129378099397819\n",
      "\n"
     ]
    }
   ],
   "source": [
    "m = (Tensor (4 , 8).fill_ (2.0), Tensor (10000 , 400).fill_ (2.0))\n",
    "\n",
    "for tensor in m:\n",
    "    print(\"For \" + str(tensor.size()))\n",
    "    \n",
    "    t1_start = time.perf_counter()\n",
    "    mul_row(tensor)\n",
    "    t1_stop = time.perf_counter()\n",
    "    tloop = (t1_stop-t1_start)/60\n",
    "\n",
    "    t1_start = time.perf_counter()\n",
    "    mul_row_fast(tensor)\n",
    "    t1_stop = time.perf_counter()\n",
    "    ttorch = (t1_stop-t1_start)/60\n",
    "\n",
    "    print(\" LOOP elapsed time: \" + str(tloop) + \" min\" )\n",
    "    print(\" PYTORCH elapsed time: \" + str(ttorch) + \" min\" )\n",
    "    print(\" ratio LOOPtime / PYTORCHtime: \" + str(tloop/ttorch) + \"\\n\")\n"
   ]
  },
  {
   "cell_type": "code",
   "execution_count": null,
   "metadata": {
    "collapsed": true
   },
   "outputs": [],
   "source": []
  }
 ],
 "metadata": {
  "kernelspec": {
   "display_name": "Python 3",
   "language": "python",
   "name": "python3"
  },
  "language_info": {
   "codemirror_mode": {
    "name": "ipython",
    "version": 3
   },
   "file_extension": ".py",
   "mimetype": "text/x-python",
   "name": "python",
   "nbconvert_exporter": "python",
   "pygments_lexer": "ipython3",
   "version": "3.6.1"
  }
 },
 "nbformat": 4,
 "nbformat_minor": 2
}
